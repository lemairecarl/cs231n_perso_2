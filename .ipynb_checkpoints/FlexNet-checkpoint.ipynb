{
 "cells": [
  {
   "cell_type": "markdown",
   "metadata": {},
   "source": [
    "# FlexNet"
   ]
  },
  {
   "cell_type": "code",
   "execution_count": 4,
   "metadata": {
    "collapsed": true
   },
   "outputs": [],
   "source": [
    "import numpy as np\n",
    "from cs231n.classifiers.convnet import *\n",
    "from cs231n.solver import Solver\n",
    "from cs231n.data_utils import get_CIFAR10_data"
   ]
  },
  {
   "cell_type": "markdown",
   "metadata": {},
   "source": [
    "## Sanity check: Overfit small data"
   ]
  },
  {
   "cell_type": "code",
   "execution_count": null,
   "metadata": {
    "collapsed": true
   },
   "outputs": [],
   "source": [
    "data = get_CIFAR10_data()\n",
    "num_train = 20\n",
    "small_data = {\n",
    "'X_train': data['X_train'][:num_train],\n",
    "'y_train': data['y_train'][:num_train],\n",
    "'X_val': data['X_val'],\n",
    "'y_val': data['y_val'],\n",
    "}\n",
    "\n",
    "input_dim = small_data['X_train'].shape[1:]\n",
    "model = FlexNet(input_dim=input_dim, num_filters=(8, 8, 16, 16), hidden_dim=(100,))\n",
    "model.print_params()"
   ]
  },
  {
   "cell_type": "code",
   "execution_count": 7,
   "metadata": {
    "collapsed": false
   },
   "outputs": [
    {
     "name": "stdout",
     "output_type": "stream",
     "text": [
      "(Iteration 1 / 10) loss: 2.237150\n",
      "(Epoch 1 / 10) train acc: 0.250000; val_acc: 0.105000\n",
      "(Iteration 2 / 10) loss: 2.220705\n",
      "(Epoch 2 / 10) train acc: 0.250000; val_acc: 0.105000\n",
      "(Iteration 3 / 10) loss: 2.203294\n",
      "(Epoch 3 / 10) train acc: 0.250000; val_acc: 0.105000\n",
      "(Iteration 4 / 10) loss: 2.266612\n",
      "(Epoch 4 / 10) train acc: 0.250000; val_acc: 0.105000\n",
      "(Iteration 5 / 10) loss: 2.229754\n",
      "(Epoch 5 / 10) train acc: 0.250000; val_acc: 0.105000\n",
      "(Iteration 6 / 10) loss: 2.195922\n",
      "(Epoch 6 / 10) train acc: 0.250000; val_acc: 0.105000\n",
      "(Iteration 7 / 10) loss: 2.091395\n",
      "(Epoch 7 / 10) train acc: 0.250000; val_acc: 0.105000\n",
      "(Iteration 8 / 10) loss: 2.106578\n",
      "(Epoch 8 / 10) train acc: 0.250000; val_acc: 0.105000\n",
      "(Iteration 9 / 10) loss: 1.988333\n",
      "(Epoch 9 / 10) train acc: 0.250000; val_acc: 0.105000\n",
      "(Iteration 10 / 10) loss: 1.920703\n",
      "(Epoch 10 / 10) train acc: 0.250000; val_acc: 0.105000\n"
     ]
    }
   ],
   "source": [
    "solver = Solver(model, small_data,\n",
    "              num_epochs=10, batch_size=50,\n",
    "              update_rule='adam',\n",
    "              optim_config={\n",
    "                'learning_rate': 1e-3,\n",
    "              },\n",
    "              verbose=True, print_every=1)\n",
    "solver.train()"
   ]
  },
  {
   "cell_type": "code",
   "execution_count": null,
   "metadata": {
    "collapsed": true
   },
   "outputs": [],
   "source": []
  }
 ],
 "metadata": {
  "anaconda-cloud": {},
  "kernelspec": {
   "display_name": "Python [conda env:pitou]",
   "language": "python",
   "name": "conda-env-pitou-py"
  },
  "language_info": {
   "codemirror_mode": {
    "name": "ipython",
    "version": 2
   },
   "file_extension": ".py",
   "mimetype": "text/x-python",
   "name": "python",
   "nbconvert_exporter": "python",
   "pygments_lexer": "ipython2",
   "version": "2.7.12"
  }
 },
 "nbformat": 4,
 "nbformat_minor": 1
}
